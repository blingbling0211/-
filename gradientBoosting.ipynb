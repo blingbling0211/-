{
 "metadata": {
  "name": ""
 },
 "nbformat": 3,
 "nbformat_minor": 0,
 "worksheets": [
  {
   "cells": [
    {
     "cell_type": "code",
     "collapsed": false,
     "input": [
      "import pandas as pd\n",
      "import numpy as np\n",
      "import lightgbm as lgb\n",
      "from sklearn import metrics\n",
      "import matplotlib.pyplot as plt\n",
      "import seaborn as sns\n",
      "import re as re\n",
      "import xgboost as xgb\n",
      "\n",
      "from sklearn.cross_validation import KFold\n",
      "from sklearn.model_selection import StratifiedShuffleSplit\n",
      "from sklearn.metrics import accuracy_score, log_loss\n",
      "from sklearn.neighbors import KNeighborsClassifier\n",
      "from sklearn.svm import SVC\n",
      "from sklearn.tree import DecisionTreeClassifier\n",
      "from sklearn.ensemble import RandomForestClassifier, AdaBoostClassifier, GradientBoostingClassifier, ExtraTreesClassifier\n",
      "from sklearn.naive_bayes import GaussianNB\n",
      "from sklearn.discriminant_analysis import LinearDiscriminantAnalysis, QuadraticDiscriminantAnalysis\n",
      "from sklearn.linear_model import LogisticRegression"
     ],
     "language": "python",
     "metadata": {},
     "outputs": [
      {
       "output_type": "stream",
       "stream": "stderr",
       "text": [
        "/usr/local/lib/python2.7/dist-packages/sklearn/cross_validation.py:41: DeprecationWarning: This module was deprecated in version 0.18 in favor of the model_selection module into which all the refactored classes and functions are moved. Also note that the interface of the new CV iterators are different from that of this module. This module will be removed in 0.20.\n",
        "  \"This module will be removed in 0.20.\", DeprecationWarning)\n"
       ]
      }
     ],
     "prompt_number": 1
    },
    {
     "cell_type": "code",
     "collapsed": false,
     "input": [
      "train = pd.read_csv('./JDATA/data/train_featureV2.csv')\n",
      "test = pd.read_csv('./JDATA/data/test_featureV2.csv')\n",
      "\n",
      "train = train.fillna(0)\n",
      "test = test.fillna(0)"
     ],
     "language": "python",
     "metadata": {},
     "outputs": [],
     "prompt_number": 2
    },
    {
     "cell_type": "code",
     "collapsed": false,
     "input": [
      "classifiers = [\n",
      "    KNeighborsClassifier(3),\n",
      "    SVC(probability = True),\n",
      "    DecisionTreeClassifier(),\n",
      "    RandomForestClassifier(),\n",
      "    AdaBoostClassifier(),\n",
      "    GradientBoostingClassifier(),\n",
      "    GaussianNB(),\n",
      "    LinearDiscriminantAnalysis(),\n",
      "    QuadraticDiscriminantAnalysis(),\n",
      "    LogisticRegression()]\n",
      "\n",
      "log_cols = [\"Classifier\", \"Accuracy\"]\n",
      "log = pd.DataFrame(columns = log_cols)\n",
      "\n",
      "sss = StratifiedShuffleSplit(n_splits = 10, test_size = 0.1, random_state = 0)"
     ],
     "language": "python",
     "metadata": {},
     "outputs": [],
     "prompt_number": 3
    },
    {
     "cell_type": "code",
     "collapsed": false,
     "input": [
      "temp = train.drop([\"uid\"], axis = 1)\n",
      "temp = temp.values\n",
      "X = temp[0::, 1::]\n",
      "y = temp[0::, 0]\n",
      "\n",
      "acc_dict = {}"
     ],
     "language": "python",
     "metadata": {},
     "outputs": [],
     "prompt_number": 5
    },
    {
     "cell_type": "code",
     "collapsed": false,
     "input": [
      "for train_index, test_index in sss.split(X, y):\n",
      "    X_train, X_test = X[train_index], X[test_index]\n",
      "    y_train, y_test = y[train_index], y[test_index]\n",
      "\n",
      "    for clf in classifiers:\n",
      "        name = clf.__class__.__name__\n",
      "        clf.fit(X_train, y_train)\n",
      "        train_predictions = clf.predict(X_test)\n",
      "        acc = accuracy_score(y_test, train_predictions)\n",
      "        f1 = metrics.f1_score(y_test, train_predictions)\n",
      "        if name in acc_dict:\n",
      "            acc_dict[name] += 0.6 * acc + 0.4 * f1\n",
      "        else:\n",
      "            acc_dict[name] = 0.6 * acc + 0.4 * f1"
     ],
     "language": "python",
     "metadata": {},
     "outputs": [
      {
       "output_type": "stream",
       "stream": "stderr",
       "text": [
        "/usr/local/lib/python2.7/dist-packages/sklearn/metrics/classification.py:1135: UndefinedMetricWarning: F-score is ill-defined and being set to 0.0 due to no predicted samples.\n",
        "  'precision', 'predicted', average, warn_for)\n",
        "/usr/local/lib/python2.7/dist-packages/sklearn/discriminant_analysis.py:388: UserWarning: Variables are collinear.\n",
        "  warnings.warn(\"Variables are collinear.\")\n"
       ]
      },
      {
       "output_type": "stream",
       "stream": "stderr",
       "text": [
        "/usr/local/lib/python2.7/dist-packages/sklearn/discriminant_analysis.py:682: UserWarning: Variables are collinear\n",
        "  warnings.warn(\"Variables are collinear\")\n"
       ]
      }
     ],
     "prompt_number": 6
    },
    {
     "cell_type": "code",
     "collapsed": false,
     "input": [
      "for clf in acc_dict:\n",
      "    acc_dict[clf] = acc_dict[clf] / 10.0\n",
      "    log_entry = pd.DataFrame([[clf, acc_dict[clf]]], columns = log_cols)\n",
      "    log = log.append(log_entry)"
     ],
     "language": "python",
     "metadata": {},
     "outputs": [],
     "prompt_number": 7
    },
    {
     "cell_type": "code",
     "collapsed": false,
     "input": [
      "plt.xlabel('Accuracy')\n",
      "plt.title('Classifier Accuracy')\n",
      "\n",
      "sns.set_color_codes(\"muted\")\n",
      "sns.barplot(x = 'Accuracy', y = 'Classifier', data = log, color = \"b\")\n",
      "plt.show()"
     ],
     "language": "python",
     "metadata": {},
     "outputs": [],
     "prompt_number": 8
    },
    {
     "cell_type": "code",
     "collapsed": false,
     "input": [
      "def evalMetric(preds,dtrain):\n",
      "    label = dtrain.get_label()\n",
      "    pre = pd.DataFrame({'preds':preds, 'label':label})\n",
      "    pre= pre.sort_values(by ='preds',ascending = False)\n",
      "    auc = metrics.roc_auc_score(pre.label, pre.preds)\n",
      "    pre.preds=pre.preds.map(lambda x: 1 if x >= 0.5 else 0)\n",
      "    f1 = metrics.f1_score(pre.label, pre.preds)\n",
      "    res = 0.6 * auc + 0.4 * f1\n",
      "    return 'res', res, True"
     ],
     "language": "python",
     "metadata": {},
     "outputs": [],
     "prompt_number": 9
    },
    {
     "cell_type": "code",
     "collapsed": false,
     "input": [
      "candidate_classifier = GradientBoostingClassifier();\n",
      "candidate_classifier.fit(train.drop(['uid', 'label'], axis = 1), train.label)\n",
      "result = candidate_classifier.predict(test.drop(['uid'], axis = 1))"
     ],
     "language": "python",
     "metadata": {},
     "outputs": [],
     "prompt_number": 10
    },
    {
     "cell_type": "code",
     "collapsed": false,
     "input": [
      "res = pd.DataFrame({'uid': test.uid, 'label': result})\n",
      "res.label = res.label.map(lambda x: 1 if x >= 0.5 else 0)\n",
      "res.label = res.label.map(lambda x: int(x))\n",
      "res.to_csv('./result/gradientboost_result.csv', index = False, header = False, sep = ',', columns = ['uid','label'])"
     ],
     "language": "python",
     "metadata": {},
     "outputs": [
      {
       "ename": "IOError",
       "evalue": "[Errno 2] No such file or directory: './result/gradientboost_result.csv'",
       "output_type": "pyerr",
       "traceback": [
        "\u001b[0;31m---------------------------------------------------------------------------\u001b[0m\n\u001b[0;31mIOError\u001b[0m                                   Traceback (most recent call last)",
        "\u001b[0;32m<ipython-input-12-8a84ef2e3119>\u001b[0m in \u001b[0;36m<module>\u001b[0;34m()\u001b[0m\n\u001b[1;32m      2\u001b[0m \u001b[0mres\u001b[0m\u001b[0;34m.\u001b[0m\u001b[0mlabel\u001b[0m \u001b[0;34m=\u001b[0m \u001b[0mres\u001b[0m\u001b[0;34m.\u001b[0m\u001b[0mlabel\u001b[0m\u001b[0;34m.\u001b[0m\u001b[0mmap\u001b[0m\u001b[0;34m(\u001b[0m\u001b[0;32mlambda\u001b[0m \u001b[0mx\u001b[0m\u001b[0;34m:\u001b[0m \u001b[0;36m1\u001b[0m \u001b[0;32mif\u001b[0m \u001b[0mx\u001b[0m \u001b[0;34m>=\u001b[0m \u001b[0;36m0.5\u001b[0m \u001b[0;32melse\u001b[0m \u001b[0;36m0\u001b[0m\u001b[0;34m)\u001b[0m\u001b[0;34m\u001b[0m\u001b[0m\n\u001b[1;32m      3\u001b[0m \u001b[0mres\u001b[0m\u001b[0;34m.\u001b[0m\u001b[0mlabel\u001b[0m \u001b[0;34m=\u001b[0m \u001b[0mres\u001b[0m\u001b[0;34m.\u001b[0m\u001b[0mlabel\u001b[0m\u001b[0;34m.\u001b[0m\u001b[0mmap\u001b[0m\u001b[0;34m(\u001b[0m\u001b[0;32mlambda\u001b[0m \u001b[0mx\u001b[0m\u001b[0;34m:\u001b[0m \u001b[0mint\u001b[0m\u001b[0;34m(\u001b[0m\u001b[0mx\u001b[0m\u001b[0;34m)\u001b[0m\u001b[0;34m)\u001b[0m\u001b[0;34m\u001b[0m\u001b[0m\n\u001b[0;32m----> 4\u001b[0;31m \u001b[0mres\u001b[0m\u001b[0;34m.\u001b[0m\u001b[0mto_csv\u001b[0m\u001b[0;34m(\u001b[0m\u001b[0;34m'./result/gradientboost_result.csv'\u001b[0m\u001b[0;34m,\u001b[0m \u001b[0mindex\u001b[0m \u001b[0;34m=\u001b[0m \u001b[0mFalse\u001b[0m\u001b[0;34m,\u001b[0m \u001b[0mheader\u001b[0m \u001b[0;34m=\u001b[0m \u001b[0mFalse\u001b[0m\u001b[0;34m,\u001b[0m \u001b[0msep\u001b[0m \u001b[0;34m=\u001b[0m \u001b[0;34m','\u001b[0m\u001b[0;34m,\u001b[0m \u001b[0mcolumns\u001b[0m \u001b[0;34m=\u001b[0m \u001b[0;34m[\u001b[0m\u001b[0;34m'uid'\u001b[0m\u001b[0;34m,\u001b[0m\u001b[0;34m'label'\u001b[0m\u001b[0;34m]\u001b[0m\u001b[0;34m)\u001b[0m\u001b[0;34m\u001b[0m\u001b[0m\n\u001b[0m",
        "\u001b[0;32m/usr/lib/python2.7/dist-packages/pandas/core/frame.pyc\u001b[0m in \u001b[0;36mto_csv\u001b[0;34m(self, path_or_buf, sep, na_rep, float_format, cols, header, index, index_label, mode, nanRep, encoding, quoting, line_terminator, chunksize, tupleize_cols, date_format, **kwds)\u001b[0m\n\u001b[1;32m   1134\u001b[0m                                      \u001b[0mtupleize_cols\u001b[0m\u001b[0;34m=\u001b[0m\u001b[0mtupleize_cols\u001b[0m\u001b[0;34m,\u001b[0m\u001b[0;34m\u001b[0m\u001b[0m\n\u001b[1;32m   1135\u001b[0m                                      date_format=date_format)\n\u001b[0;32m-> 1136\u001b[0;31m         \u001b[0mformatter\u001b[0m\u001b[0;34m.\u001b[0m\u001b[0msave\u001b[0m\u001b[0;34m(\u001b[0m\u001b[0;34m)\u001b[0m\u001b[0;34m\u001b[0m\u001b[0m\n\u001b[0m\u001b[1;32m   1137\u001b[0m \u001b[0;34m\u001b[0m\u001b[0m\n\u001b[1;32m   1138\u001b[0m     def to_excel(self, excel_writer, sheet_name='Sheet1', na_rep='',\n",
        "\u001b[0;32m/usr/lib/python2.7/dist-packages/pandas/core/format.pyc\u001b[0m in \u001b[0;36msave\u001b[0;34m(self)\u001b[0m\n\u001b[1;32m   1146\u001b[0m         \u001b[0;32melse\u001b[0m\u001b[0;34m:\u001b[0m\u001b[0;34m\u001b[0m\u001b[0m\n\u001b[1;32m   1147\u001b[0m             f = com._get_handle(self.path_or_buf, self.mode,\n\u001b[0;32m-> 1148\u001b[0;31m                                 encoding=self.encoding)\n\u001b[0m\u001b[1;32m   1149\u001b[0m             \u001b[0mclose\u001b[0m \u001b[0;34m=\u001b[0m \u001b[0mTrue\u001b[0m\u001b[0;34m\u001b[0m\u001b[0m\n\u001b[1;32m   1150\u001b[0m \u001b[0;34m\u001b[0m\u001b[0m\n",
        "\u001b[0;32m/usr/lib/python2.7/dist-packages/pandas/core/common.pyc\u001b[0m in \u001b[0;36m_get_handle\u001b[0;34m(path, mode, encoding, compression)\u001b[0m\n\u001b[1;32m   2312\u001b[0m                 \u001b[0mf\u001b[0m \u001b[0;34m=\u001b[0m \u001b[0mopen\u001b[0m\u001b[0;34m(\u001b[0m\u001b[0mpath\u001b[0m\u001b[0;34m,\u001b[0m \u001b[0mmode\u001b[0m\u001b[0;34m,\u001b[0m \u001b[0merrors\u001b[0m\u001b[0;34m=\u001b[0m\u001b[0;34m'replace'\u001b[0m\u001b[0;34m)\u001b[0m\u001b[0;34m\u001b[0m\u001b[0m\n\u001b[1;32m   2313\u001b[0m         \u001b[0;32melse\u001b[0m\u001b[0;34m:\u001b[0m\u001b[0;34m\u001b[0m\u001b[0m\n\u001b[0;32m-> 2314\u001b[0;31m             \u001b[0mf\u001b[0m \u001b[0;34m=\u001b[0m \u001b[0mopen\u001b[0m\u001b[0;34m(\u001b[0m\u001b[0mpath\u001b[0m\u001b[0;34m,\u001b[0m \u001b[0mmode\u001b[0m\u001b[0;34m)\u001b[0m\u001b[0;34m\u001b[0m\u001b[0m\n\u001b[0m\u001b[1;32m   2315\u001b[0m \u001b[0;34m\u001b[0m\u001b[0m\n\u001b[1;32m   2316\u001b[0m     \u001b[0;32mreturn\u001b[0m \u001b[0mf\u001b[0m\u001b[0;34m\u001b[0m\u001b[0m\n",
        "\u001b[0;31mIOError\u001b[0m: [Errno 2] No such file or directory: './result/gradientboost_result.csv'"
       ]
      }
     ],
     "prompt_number": 12
    },
    {
     "cell_type": "code",
     "collapsed": false,
     "input": [
      "res = pd.DataFrame({'uid': test.uid, 'label': result})\n",
      "res.label = res.label.map(lambda x: 1 if x >= 0.5 else 0)\n",
      "res.label = res.label.map(lambda x: int(x))\n",
      "res.to_csv('./JDATA/result/gradientboost_result.csv', index = False, header = False, sep = ',', columns = ['uid','label'])"
     ],
     "language": "python",
     "metadata": {},
     "outputs": [],
     "prompt_number": 12
    },
    {
     "cell_type": "code",
     "collapsed": false,
     "input": [
      "pred = candidate_classifier.predict(test.drop(['uid'], axis = 1))\n",
      "\n",
      "res = pd.DataFrame({'uid': test.uid, 'label': pred})\n",
      "res.label = res.label.map(lambda x: 1 if x >= 0.5 else 0)\n",
      "res.label = res.label.map(lambda x: int(x))\n",
      "res.to_csv('./JDATA/result/gradientboost_result.csv', index = False, header = False, sep = ',', columns = ['uid','label'])"
     ],
     "language": "python",
     "metadata": {},
     "outputs": [],
     "prompt_number": 13
    },
    {
     "cell_type": "code",
     "collapsed": false,
     "input": [],
     "language": "python",
     "metadata": {},
     "outputs": []
    }
   ],
   "metadata": {}
  }
 ]
}